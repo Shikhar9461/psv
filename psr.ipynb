{
 "cells": [
  {
   "cell_type": "code",
   "execution_count": 1,
   "id": "90e77949",
   "metadata": {},
   "outputs": [
    {
     "name": "stdout",
     "output_type": "stream",
     "text": [
      "The dataset has 399 rows and 24 columns.\n"
     ]
    }
   ],
   "source": [
    "import pandas as pd\n",
    "\n",
    "# Replace 'books.csv' with the actual path to your CSV file\n",
    "file_path = 'books.csv'\n",
    "\n",
    "# Read the CSV file into a DataFrame\n",
    "df = pd.read_csv(file_path)\n",
    "\n",
    "# Get the number of rows and columns\n",
    "num_rows, num_columns = df.shape\n",
    "\n",
    "print(f'The dataset has {num_rows} rows and {num_columns} columns.')\n"
   ]
  },
  {
   "cell_type": "code",
   "execution_count": 2,
   "id": "643b4cfb",
   "metadata": {},
   "outputs": [
    {
     "name": "stdout",
     "output_type": "stream",
     "text": [
      "The number of books without an original title is: 36\n"
     ]
    }
   ],
   "source": [
    "books_without_original_title = df['original_title'].isnull().sum()\n",
    "\n",
    "print(f'The number of books without an original title is: {books_without_original_title}')"
   ]
  },
  {
   "cell_type": "code",
   "execution_count": 3,
   "id": "53947284",
   "metadata": {},
   "outputs": [
    {
     "name": "stdout",
     "output_type": "stream",
     "text": [
      "The number of unique books based on \"book_id\" after removing null values in the \"original_title\" column is: 363\n"
     ]
    }
   ],
   "source": [
    "df = df.dropna(subset=['original_title'])\n",
    "\n",
    "# Count the number of unique books based on 'book_id'\n",
    "unique_books_count = df['book_id'].nunique()\n",
    "\n",
    "print(f'The number of unique books based on \"book_id\" after removing null values in the \"original_title\" column is: {unique_books_count}')"
   ]
  },
  {
   "cell_type": "code",
   "execution_count": 5,
   "id": "31512b9c",
   "metadata": {},
   "outputs": [
    {
     "name": "stdout",
     "output_type": "stream",
     "text": [
      "The average rating of all books in the dataset is: 3.99\n"
     ]
    }
   ],
   "source": [
    "average_rating = df['average_rating'].mean()\n",
    "\n",
    "print(f'The average rating of all books in the dataset is: {average_rating:.2f}')"
   ]
  },
  {
   "cell_type": "code",
   "execution_count": 6,
   "id": "aa13770c",
   "metadata": {},
   "outputs": [
    {
     "name": "stdout",
     "output_type": "stream",
     "text": [
      "The number of books published in the year 2000 is: 7\n"
     ]
    }
   ],
   "source": [
    "books_published_2000 = df[df['original_publication_year'] == 2000]\n",
    "\n",
    "# Get the number of books published in the year 2000\n",
    "num_books_published_2000 = len(books_published_2000)\n",
    "\n",
    "print(f'The number of books published in the year 2000 is: {num_books_published_2000}')"
   ]
  },
  {
   "cell_type": "code",
   "execution_count": 7,
   "id": "d980aab6",
   "metadata": {},
   "outputs": [
    {
     "name": "stdout",
     "output_type": "stream",
     "text": [
      "The book with the maximum number of ratings is: The Diary of a Young Girl (2024493 ratings)\n"
     ]
    }
   ],
   "source": [
    "max_ratings_book = df.loc[df['work_ratings_count'].idxmax()]\n",
    "\n",
    "# Get the title of the book with the maximum ratings\n",
    "max_ratings_title = max_ratings_book['title']\n",
    "\n",
    "print(f'The book with the maximum number of ratings is: {max_ratings_title} ({max_ratings_book[\"work_ratings_count\"]:.0f} ratings)')"
   ]
  },
  {
   "cell_type": "code",
   "execution_count": 8,
   "id": "215fcfa5",
   "metadata": {},
   "outputs": [
    {
     "data": {
      "image/png": "[encoded data removed]",
      "text/plain": [
       "<Figure size 432x288 with 1 Axes>"
      ]
     },
     "metadata": {
      "needs_background": "light"
     },
     "output_type": "display_data"
    }
   ],
   "source": [
    "import pandas as pd\n",
    "import matplotlib.pyplot as plt\n",
    "import numpy as np\n",
    "rating_buckets = [0, 0.5, 1.0, 1.5, 2.0, 2.5, 3.0, 3.5, 4.0, 4.5, 5.0]\n",
    "\n",
    "# Round the average_rating to the nearest 0.5\n",
    "df['rounded_rating'] = df['average_rating'].apply(lambda x: round(x * 2) / 2)\n",
    "\n",
    "# Count the number of books in each rating bucket\n",
    "rating_counts = df['rounded_rating'].value_counts().sort_index()\n",
    "\n",
    "# Plot a bar graph\n",
    "plt.bar(rating_counts.index, rating_counts.values, width=0.4, align='center', alpha=0.7)\n",
    "plt.xlabel('Average Rating')\n",
    "plt.ylabel('Number of Books')\n",
    "plt.title('Number of Books in Each Rating Bucket')\n",
    "plt.xticks(np.arange(0, 5.5, step=0.5))\n",
    "plt.show()"
   ]
  },
  {
   "cell_type": "code",
   "execution_count": null,
   "id": "8e747911",
   "metadata": {},
   "outputs": [],
   "source": []
  }
 ],
 "metadata": {
  "kernelspec": {
   "display_name": "Python 3 (ipykernel)",
   "language": "python",
   "name": "python3"
  },
  "language_info": {
   "codemirror_mode": {
    "name": "ipython",
    "version": 3
   },
   "file_extension": ".py",
   "mimetype": "text/x-python",
   "name": "python",
   "nbconvert_exporter": "python",
   "pygments_lexer": "ipython3",
   "version": "3.9.7"
  }
 },
 "nbformat": 4,
 "nbformat_minor": 5
}
